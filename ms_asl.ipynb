{
 "cells": [
  {
   "cell_type": "code",
   "execution_count": 9,
   "metadata": {},
   "outputs": [],
   "source": [
    "%load_ext autoreload\n",
    "%autoreload 2"
   ]
  },
  {
   "cell_type": "code",
   "execution_count": null,
   "metadata": {},
   "outputs": [
    {
     "name": "stdout",
     "output_type": "stream",
     "text": [
      "[TEST] Loaded 522 videos with label < 100\n",
      "[TRAIN] Loaded 2892 videos with label < 100\n",
      "[VALIDATION] Loaded 889 videos with label < 100\n"
     ]
    }
   ],
   "source": [
    "from utils.dataset import load_msasl\n",
    "\n",
    "label_threshold = 100\n",
    "test_dataset, train_dataset, validation_dataset = load_msasl(\"packed\", label_threshold)\n"
   ]
  },
  {
   "cell_type": "code",
   "execution_count": 24,
   "metadata": {},
   "outputs": [
    {
     "name": "stdout",
     "output_type": "stream",
     "text": [
      "---------------ASL100---------------\n",
      "Test: {'n_videos': 522}\n",
      "Train: {'n_videos': 2892}\n",
      "Validation: {'n_videos': 889}\n",
      "Min Videos Per Class: 30\n",
      "Mean Videos Per Class: 43.03\n"
     ]
    }
   ],
   "source": [
    "test_description = {}\n",
    "train_description = {}\n",
    "validation_description = {}\n",
    "\n",
    "data_per_label = {}\n",
    "for i in range(0, label_threshold):\n",
    "  data_per_label[i] = 0\n",
    "\n",
    "for metadata in test_dataset.iterate_metadata():\n",
    "  label = metadata[\"label\"]\n",
    "  data_per_label[label] += 1\n",
    "\n",
    "for metadata in train_dataset.iterate_metadata():\n",
    "  label = metadata[\"label\"]\n",
    "  data_per_label[label] += 1\n",
    "\n",
    "for metadata in validation_dataset.iterate_metadata():\n",
    "  label = metadata[\"label\"]\n",
    "  data_per_label[label] += 1\n",
    "\n",
    "train_description[\"n_videos\"] = len(train_dataset)\n",
    "test_description[\"n_videos\"] = len(test_dataset)\n",
    "validation_description[\"n_videos\"] = len(validation_dataset)\n",
    "\n",
    "mean_data_per_label = sum(data_per_label.values()) / len(data_per_label)\n",
    "min_data_per_label = min(data_per_label.values())\n",
    "\n",
    "print(f\"---------------ASL{label_threshold}---------------\")\n",
    "print(f\"Test: {test_description}\")\n",
    "print(f\"Train: {train_description}\")\n",
    "print(f\"Validation: {validation_description}\")\n",
    "print(f\"Min Videos Per Class: {min_data_per_label}\")\n",
    "print(f\"Mean Videos Per Class: {mean_data_per_label}\")"
   ]
  },
  {
   "cell_type": "code",
   "execution_count": 25,
   "metadata": {},
   "outputs": [
    {
     "name": "stdout",
     "output_type": "stream",
     "text": [
      "Video Shape: torch.Size([42, 3, 720, 1280])\n",
      "Label: 24\n",
      "Metadata: {'id': '4a70af1b-804e-48bc-91f0-33289976e666', 'org_text': 'I GOOD (I am good)', 'clean_text': 'good', 'start_time': 22.1, 'end_time': 23.467, 'signer_id': 34, 'signer': 11, 'start': 663, 'end': 704, 'file': 'Basic Greetings  Responses', 'label': 24, 'height': 720.0, 'width': 1280.0, 'fps': 30.0, 'url': 'https://www.youtube.com/watch?v=hCxSiN-vZS8', 'text': 'good', 'box': [0.0, 0.0, 1.0, 0.866500973701477], 'filename': 'good_4a70af1b-804e-48bc-91f0-33289976e666'}\n"
     ]
    }
   ],
   "source": [
    "from utils.dataset import show_video_frames\n",
    "\n",
    "video, label, metadata = test_dataset[10]\n",
    "# show_video_frames(video)\n",
    "print(f\"Video Shape: {video.shape}\")\n",
    "print(f\"Label: {label}\")\n",
    "print(f\"Metadata: {metadata}\")"
   ]
  }
 ],
 "metadata": {
  "kernelspec": {
   "display_name": "venv",
   "language": "python",
   "name": "python3"
  },
  "language_info": {
   "codemirror_mode": {
    "name": "ipython",
    "version": 3
   },
   "file_extension": ".py",
   "mimetype": "text/x-python",
   "name": "python",
   "nbconvert_exporter": "python",
   "pygments_lexer": "ipython3",
   "version": "3.11.2"
  }
 },
 "nbformat": 4,
 "nbformat_minor": 2
}
