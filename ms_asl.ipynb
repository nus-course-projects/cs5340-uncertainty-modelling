{
 "cells": [
  {
   "cell_type": "code",
   "execution_count": 2,
   "metadata": {},
   "outputs": [
    {
     "name": "stdout",
     "output_type": "stream",
     "text": [
      "Loaded 2842 videos with label < 1000\n"
     ]
    }
   ],
   "source": [
    "import os\n",
    "from utils.dataset import StreamingVideoDataset\n",
    "\n",
    "binary_file = os.path.join(\"packed\", \"test\", \"dataset.bin\")\n",
    "index_file = os.path.join(\"packed\", \"test\", \"index.json\")\n",
    "label_threshold = 1000\n",
    "dataset = StreamingVideoDataset(binary_file, index_file, label_threshold)\n",
    "print(f\"Loaded {len(dataset)} videos with label < {label_threshold}\")"
   ]
  },
  {
   "cell_type": "code",
   "execution_count": 3,
   "metadata": {},
   "outputs": [
    {
     "name": "stdout",
     "output_type": "stream",
     "text": [
      "Video Shape: torch.Size([90, 3, 720, 1280])\n",
      "Label: 573\n",
      "Metadata: {'id': '6767ebdf-17d4-4732-8f9d-9e0d442e2421', 'org_text': 'LAWYER', 'clean_text': 'lawyer', 'start_time': 165.298, 'end_time': 168.301, 'signer_id': 9, 'signer': -1, 'start': 4954, 'end': 5044, 'file': 'Community Job Signs', 'label': 573, 'height': 360.0, 'width': 640.0, 'fps': 29.97, 'url': 'https://www.youtube.com/watch?v=G77ZoILMYw4', 'text': 'lawyer', 'box': [0.008393615484237671, 0.15723681449890137, 1.0, 0.7912578582763672], 'filename': 'lawyer_6767ebdf-17d4-4732-8f9d-9e0d442e2421'}\n"
     ]
    }
   ],
   "source": [
    "from utils.dataset import show_video_frames\n",
    "\n",
    "video, label, metadata = dataset[10]\n",
    "# show_video_frames(video)\n",
    "print(f\"Video Shape: {video.shape}\")\n",
    "print(f\"Label: {label}\")\n",
    "print(f\"Metadata: {metadata}\")"
   ]
  }
 ],
 "metadata": {
  "kernelspec": {
   "display_name": "venv",
   "language": "python",
   "name": "python3"
  },
  "language_info": {
   "codemirror_mode": {
    "name": "ipython",
    "version": 3
   },
   "file_extension": ".py",
   "mimetype": "text/x-python",
   "name": "python",
   "nbconvert_exporter": "python",
   "pygments_lexer": "ipython3",
   "version": "3.11.2"
  }
 },
 "nbformat": 4,
 "nbformat_minor": 2
}
